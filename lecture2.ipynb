{
 "cells": [
  {
   "cell_type": "code",
   "execution_count": 1,
   "metadata": {},
   "outputs": [
    {
     "name": "stdout",
     "output_type": "stream",
     "text": [
      "Server:  cdns01.comcast.net\n",
      "Address:  2001:558:feed::1\n",
      "\n",
      "google.com\ttext =\n",
      "\n",
      "\t\"atlassian-domain-verification=5YjTmWmjI92ewqkx2oXmBaD60Td9zWon9r6eakvHX6B77zzkFQto8PQ9QsKnbf4I\"\n",
      "google.com\ttext =\n",
      "\n",
      "\t\"MS=E4A68B9AB2BB9670BCE15412F62916164C0B20BB\"\n",
      "google.com\ttext =\n",
      "\n",
      "\t\"docusign=05958488-4752-4ef2-95eb-aa7ba8a3bd0e\"\n",
      "google.com\ttext =\n",
      "\n",
      "\t\"onetrust-domain-verification=de01ed21f2fa4d8781cbc3ffb89cf4ef\"\n",
      "google.com\ttext =\n",
      "\n",
      "\t\"v=spf1 include:_spf.google.com ~all\"\n",
      "google.com\ttext =\n",
      "\n",
      "\t\"docusign=1b0a6754-49b1-4db5-8540-d2c12664b289\"\n",
      "google.com\ttext =\n",
      "\n",
      "\t\"google-site-verification=wD8N7i1JTNTkezJ49swvWW48f8_9xveREV4oB-0Hf5o\"\n",
      "google.com\ttext =\n",
      "\n",
      "\t\"webexdomainverification.8YX6G=6e6922db-e3e6-4a36-904e-a805c28087fa\"\n",
      "google.com\ttext =\n",
      "\n",
      "\t\"apple-domain-verification=30afIBcvSuDV2PLX\"\n",
      "google.com\ttext =\n",
      "\n",
      "\t\"facebook-domain-verification=22rm551cu4k0ab0bxsw536tlds4h95\"\n",
      "google.com\ttext =\n",
      "\n",
      "\t\"google-site-verification=TV9-DBe4R80X4v0M4U_bd_J9cpOJM0nikft0jAgjmsQ\"\n",
      "google.com\ttext =\n",
      "\n",
      "\t\"globalsign-smime-dv=CDYX+XFHUw2wml6/Gb8+59BsH31KzUr6c1l2BPvqKX8=\"\n",
      "\n"
     ]
    }
   ],
   "source": [
    "import subprocess\n",
    "\n",
    "domain = \"google.com\"\n",
    "\n",
    "# Execute the nslookup command\n",
    "result = subprocess.run(['nslookup', '-q=txt', '-n', domain],\n",
    "    stdout=subprocess.PIPE,\n",
    "    stderr=subprocess.PIPE,\n",
    "    encoding='utf-8')\n",
    "# Display the output\n",
    "print(result.stdout)"
   ]
  }
 ],
 "metadata": {
  "kernelspec": {
   "display_name": "Python 3",
   "language": "python",
   "name": "python3"
  },
  "language_info": {
   "codemirror_mode": {
    "name": "ipython",
    "version": 3
   },
   "file_extension": ".py",
   "mimetype": "text/x-python",
   "name": "python",
   "nbconvert_exporter": "python",
   "pygments_lexer": "ipython3",
   "version": "3.10.7"
  },
  "orig_nbformat": 4
 },
 "nbformat": 4,
 "nbformat_minor": 2
}
