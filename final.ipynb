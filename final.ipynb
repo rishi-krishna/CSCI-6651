{
 "cells": [
  {
   "attachments": {},
   "cell_type": "markdown",
   "metadata": {},
   "source": [
    "### Q1 \n",
    "#### You are given an encrypt message function. Write a corresponding function to decrypt."
   ]
  },
  {
   "cell_type": "code",
   "execution_count": 74,
   "metadata": {},
   "outputs": [
    {
     "name": "stdout",
     "output_type": "stream",
     "text": [
      "encrypt message:  2f0707be72c8d53972f3e911113978724307e978f339\n",
      "decrypt message:  GOOD BYE SUMMER COURSE\n"
     ]
    }
   ],
   "source": [
    "\n",
    "\n",
    "MSG = \"GOOD BYE SUMMER COURSE\"\n",
    "\n",
    "def encrypt(msg):\n",
    "    ct = []\n",
    "    for char in msg:\n",
    "        ct.append((123 * ord(char) + 18) % 256)\n",
    "    ct = bytes(ct)\n",
    "    f = open('./msg.enc','w')\n",
    "    f.write(ct.hex())\n",
    "    f.close()\n",
    "    print('encrypt message: ', ct.hex())\n",
    "\n",
    "encrypt(MSG)\n",
    "\n",
    "def decrypt():\n",
    "    #open file and take encryoted message\n",
    "    f = open('./msg.enc', 'r')\n",
    "    encrypted_hex = f.read()\n",
    "    f.close()\n",
    "    \n",
    "    encrypted_bytes = bytes.fromhex(encrypted_hex)\n",
    "    \n",
    "    #logic to decrypt\n",
    "    decrypted_msg = []\n",
    "    for byte in encrypted_bytes:\n",
    "        decrypted_byte = ((byte - 18) * pow(123, -1, 256)) % 256\n",
    "        decrypted_msg.append(chr(decrypted_byte))\n",
    "    \n",
    "    decrypted_msg = ''.join(decrypted_msg)\n",
    "    return decrypted_msg\n",
    "\n",
    "\n",
    "#print decrypt message\n",
    "print('decrypt message: ', decrypt())\n",
    "\n"
   ]
  },
  {
   "cell_type": "code",
   "execution_count": null,
   "metadata": {},
   "outputs": [],
   "source": []
  },
  {
   "attachments": {},
   "cell_type": "markdown",
   "metadata": {},
   "source": [
    "### Q2 \n",
    "##### We encrypted a message by simply xoring the message with a key of 4 bytes (check the encrypt function).\n",
    "\n",
    "Unfortunately, we lost the key, so as place holder we have put b'0000'\n",
    "\n",
    "Can you recover the key and decrypt the message?  *Hint:* The first four letters of the message are **CSCI**\n",
    "\n"
   ]
  },
  {
   "cell_type": "code",
   "execution_count": 73,
   "metadata": {},
   "outputs": [
    {
     "name": "stdout",
     "output_type": "stream",
     "text": [
      "nÄ\u0017bÒ\u0004tÓÄ\n",
      "CSCI6651 is too much fun!\n"
     ]
    }
   ],
   "source": [
    "from binascii import hexlify\n",
    "encrypted = \"8101729df46404e5e23b42f4b63d5ef4af2752bce23444bae3\"\n",
    "\n",
    "key = b'0000'\n",
    "\n",
    "def decrypt(encrypted: str, key: bytes): \n",
    "    xored = ''\n",
    "    for i in range(0,len(encrypted),2):\n",
    "        # print (encrypted[i:i+2], key[i//2 % len(key)])\n",
    "        xored += chr ( int ( encrypted[i:i+2], 16 ) ^ key[i//2 % len(key)] ) \n",
    "    return xored\n",
    "\n",
    "def encrypt(message: str, key: bytes): \n",
    "    return decrypt( hexlify(message.encode()).decode(), key)\n",
    "\n",
    "\n",
    "xored = decrypt (encrypted, key)\n",
    "print (xored)\n",
    "\n",
    "\n",
    "# Recovering the key\n",
    "final_key = b''\n",
    "for i in range(4):\n",
    "    final_key += bytes([int(encrypted[i*2:i*2+2], 16) ^ ord(\"CSCI\"[i])])\n",
    "\n",
    "xored = decrypt(encrypted, final_key)\n",
    "print(xored)"
   ]
  },
  {
   "attachments": {},
   "cell_type": "markdown",
   "metadata": {},
   "source": [
    "### Q3 \n",
    "Write a generator that generates ** even ** random numbers between 1 and 100 "
   ]
  },
  {
   "cell_type": "code",
   "execution_count": 72,
   "metadata": {},
   "outputs": [
    {
     "name": "stdout",
     "output_type": "stream",
     "text": [
      "6\n",
      "6\n",
      "44\n",
      "62\n",
      "58\n"
     ]
    }
   ],
   "source": [
    "import random \n",
    "import time \n",
    "\n",
    " # Initialize the (pseudo)random number generator\n",
    "\n",
    "\n",
    "def generate_random_numbers():\n",
    "    while True:\n",
    "        num = random.randint(1, 50) * 2\n",
    "        yield num\n",
    "\n",
    " \n",
    "g = generate_random_numbers()\n",
    "for i in range(5):  \n",
    "    print ( next( g )  ) \n",
    "    \n",
    "\n"
   ]
  },
  {
   "attachments": {},
   "cell_type": "markdown",
   "metadata": {},
   "source": [
    "### Q4 \n",
    "\n",
    "#### Run the module server.py in a terminal \n",
    "\n",
    "Write a client to connect the server.\n",
    "\n",
    "When the client connects to the server it will receive a question. \n",
    "\n",
    "Make sure to answer the question correctly. You know it is correct if the server sends you a message with the word \"Bingo!\".\n"
   ]
  },
  {
   "cell_type": "code",
   "execution_count": null,
   "metadata": {},
   "outputs": [],
   "source": [
    "pass\n"
   ]
  },
  {
   "cell_type": "code",
   "execution_count": 71,
   "metadata": {},
   "outputs": [
    {
     "name": "stdout",
     "output_type": "stream",
     "text": [
      "[+] Connected to the server\n",
      "Question: Question: Where is the University of New Haven?\n",
      "Response: \u001b[33m[?]\u001b[0m Print your answer here:\n",
      "Answer is incorrect!\n"
     ]
    }
   ],
   "source": [
    "import socket\n",
    "\n",
    "def connect_to_server():\n",
    "    host = 'localhost'\n",
    "    port = 1337\n",
    "\n",
    "    client_socket = socket.socket(socket.AF_INET, socket.SOCK_STREAM)\n",
    "    client_socket.connect((host, port))\n",
    "    return client_socket\n",
    "\n",
    "def receive_message(client_socket):\n",
    "    return client_socket.recv(4096).strip().decode('ASCII')\n",
    "\n",
    "def send_message(client_socket, message):\n",
    "    client_socket.sendall(message.encode())\n",
    "\n",
    "def main():\n",
    "    client_socket = connect_to_server()\n",
    "    print(\"[+] Connected to server.\")\n",
    "\n",
    "    response = receive_message(client_socket)\n",
    "    print(\"Question:\", response)\n",
    "\n",
    "    if response.endswith(\"University of New Haven?\"):\n",
    "        answer = \"West Haven\"\n",
    "        send_message(client_socket, answer)\n",
    "        print(\"Answer sent:\", answer)\n",
    "\n",
    "        response = receive_message(client_socket)\n",
    "        print(\"Server response:\", response)\n",
    "    else:\n",
    "        print(\"Invalid question received.\")\n",
    "\n",
    "    client_socket.close()\n",
    "\n",
    "if name == \"main\":    main()if _name_ == \"_main_\":\n",
    "    main()"
   ]
  },
  {
   "cell_type": "code",
   "execution_count": null,
   "metadata": {},
   "outputs": [],
   "source": []
  }
 ],
 "metadata": {
  "kernelspec": {
   "display_name": "myenv",
   "language": "python",
   "name": "python3"
  },
  "language_info": {
   "codemirror_mode": {
    "name": "ipython",
    "version": 3
   },
   "file_extension": ".py",
   "mimetype": "text/x-python",
   "name": "python",
   "nbconvert_exporter": "python",
   "pygments_lexer": "ipython3",
   "version": "3.10.7"
  },
  "orig_nbformat": 4
 },
 "nbformat": 4,
 "nbformat_minor": 2
}
