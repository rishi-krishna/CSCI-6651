{
 "cells": [
  {
   "attachments": {},
   "cell_type": "markdown",
   "metadata": {},
   "source": [
    "## Q1 \n",
    "\n",
    "TinyURL is a URL shortening service: The idea is simple, you enter a complete URL such as https://universityofnewhaven/design-tinyurl and it returns a short URL such as http://tinyurl.com/3f8iBm. Design a function to encode a URL and another function to decode a tiny URL.\n",
    " \n",
    "\n",
    "There is no restriction on how your encode/decode algorithm should work. You just need to ensure that a URL can be encoded to a tiny URL and the tiny URL can be decoded to the original URL.\n",
    "\n",
    " \n",
    "Implement the following methods\n",
    "\n",
    " \n",
    "- *def encode(longUrl): Returns a tiny URL for the given longUrl.*\n",
    "\n",
    "- *def decode(shortUrl) Returns the original long URL for the given shortUrl.*\n",
    " \n",
    "\n",
    "**Hint: you can use dictionaries to store the mappings**\n",
    "\n",
    "\n"
   ]
  },
  {
   "cell_type": "code",
   "execution_count": 2,
   "metadata": {},
   "outputs": [
    {
     "name": "stdout",
     "output_type": "stream",
     "text": [
      "Encoded URL: http://tinyurl.com/4nVmhr\n",
      "Decoded URL: https://universityofnewhaven/design-tinyurl\n",
      "Encoded URL: http://tinyurl.com/owRpo4\n",
      "Decoded URL: https://universityofnewhaven/asdsd\n"
     ]
    }
   ],
   "source": [
    "import random\n",
    "import string\n",
    "\n",
    "# Dictionary to store the URL's\n",
    "url_map = {}\n",
    "\n",
    " # method to Generate a random string of characters to add to short url\n",
    "def generate_short_url():\n",
    "   \n",
    "    characters = string.ascii_letters + string.digits\n",
    "    short_url = ''.join(random.choice(characters) for _ in range(6))  \n",
    "    return short_url\n",
    "\n",
    "def encode(longUrl):\n",
    "    global url_map\n",
    "\n",
    "    if longUrl in url_map:\n",
    "        return url_map[longUrl]\n",
    "\n",
    "    # using generate_dhort_url method to get random value and adding to url\n",
    "    shortUrl = \"http://tinyurl.com/\" + generate_short_url()\n",
    "\n",
    "    # store to dictionary\n",
    "    url_map[longUrl] = shortUrl\n",
    "\n",
    "    return shortUrl\n",
    "\n",
    "def decode(shortUrl):\n",
    "    global url_map\n",
    "\n",
    "    shortUrl = shortUrl.split(\"/\")[-1]\n",
    "\n",
    "    # for loop to fetch url from dictionary\n",
    "    for longUrl, encoded in url_map.items():\n",
    "        if encoded.split(\"/\")[-1] == shortUrl:\n",
    "            return longUrl\n",
    "\n",
    "    #return none if not found\n",
    "    return None\n",
    "\n",
    "\n",
    "#Example 1\n",
    "long_url = \"https://universityofnewhaven/design-tinyurl\"\n",
    "encoded_url = encode(long_url)\n",
    "print(\"Encoded URL:\", encoded_url)\n",
    "\n",
    "decoded_url = decode(encoded_url)\n",
    "print(\"Decoded URL:\", decoded_url)\n",
    "\n",
    "#Example 2\n",
    "long_url = \"https://universityofnewhaven/asdsd\"\n",
    "encoded_url = encode(long_url)\n",
    "print(\"Encoded URL:\", encoded_url)\n",
    "\n",
    "decoded_url = decode(encoded_url)\n",
    "print(\"Decoded URL:\", decoded_url)\n",
    "\n"
   ]
  },
  {
   "attachments": {},
   "cell_type": "markdown",
   "metadata": {},
   "source": [
    "## Q2 \n",
    "\n",
    "You are provided with an encryption function that takes a text in and a key. \n",
    "\n",
    "Your task is to develop the corresponding decryption function."
   ]
  },
  {
   "cell_type": "code",
   "execution_count": 3,
   "metadata": {},
   "outputs": [
    {
     "name": "stdout",
     "output_type": "stream",
     "text": [
      "['0x5c', '0x32', '0x20', '0x15', '0x33', '0x11', '0x2a', '0x1a', '0x78', '0x65', '0x39', '0xe', '0x61', '0x65', '0x2e', '0xe', '0x6e', '0x37', '0x77', '0x14', '0x6b', '0x24', '0x22', '0x59', '0x72', '0x39', '0x77', '0x5', '0x7b', '0x28', '0x77', '0x24', '0x65', '0x2c', '0x29', '0x14', '0x61', '0x36', '0x3e', '0x5', '0x6a', '0x65', '0x20', '0x17', '0x33', '0x13', '0x3a', '0x6', '0x33', '0xd', '0x36', '0x7', '0x7e', '0x33', '0x76']\n",
      "Good Luck for your exam at the University of New Haven!\n"
     ]
    }
   ],
   "source": [
    "def encrypt(textIn, key): \n",
    "    textOut = list ( textIn ) \n",
    "    for i in range(len(textIn)):\n",
    "        textOut [i] = chr ( -~ ord( textIn [i] ) ) \n",
    "        textOut [i] = chr (ord (textOut[i]) + 3 ) \n",
    "        textOut [i] = chr ( 5 ^ key [i%4]  ^ ord ( textOut [i] ) )\n",
    "    return \"\".join(textOut)\n",
    "\n",
    "textOut = encrypt(\"Good Luck for your exam at the University of New Haven!\", [0x12, 0x44, 0x56, 0x78])\n",
    "print ([hex(ord(x)) for x in textOut]) \n",
    "\n",
    "def decrypt(textOut, key):\n",
    "    textIn = list(textOut)\n",
    "    for i in range(len(textOut)):\n",
    "        textIn[i] = chr(ord(textOut[i]) ^ 5 ^ key[i % 4])\n",
    "        textIn[i] = chr(ord(textIn[i]) - 3)\n",
    "        textIn[i] = chr(ord(textIn[i]) - 1)\n",
    "    return \"\".join(textIn)\n",
    "\n",
    "decryptedTextOut = decrypt(textOut, [0x12, 0x44, 0x56, 0x78])\n",
    "#this should print the original text: Good Luck for your exam at the University of New Haven!\n",
    "print (decryptedTextOut)\n",
    "\n",
    "\n",
    "\n",
    "  \n"
   ]
  },
  {
   "attachments": {},
   "cell_type": "markdown",
   "metadata": {},
   "source": [
    "## Q3\n",
    "This server reveives an array of bytes from a client, and does the sum of all the bytes. \n",
    "\n",
    "It returns the sum as a big-Endian unsigned integer over 4 bytes. \n",
    "\n",
    "Your task is to write the client side which sends the array of bytes, receives the sum over 4 bytes, and prints it to the screen as an integer.\n",
    "\n"
   ]
  },
  {
   "cell_type": "code",
   "execution_count": 3,
   "metadata": {},
   "outputs": [
    {
     "name": "stdout",
     "output_type": "stream",
     "text": [
      "Connected by ('127.0.0.1', 12677)\n",
      "105\n"
     ]
    }
   ],
   "source": [
    "import socket\n",
    "\n",
    "HOST = \"127.0.0.1\"  # Standard loopback interface address (localhost)\n",
    "PORT = 65432  # Port to listen on (non-privileged ports are > 1023)\n",
    "\n",
    "\n",
    "with socket.socket(socket.AF_INET, socket.SOCK_STREAM) as s:\n",
    "    s.bind((HOST, PORT))\n",
    "    s.listen()\n",
    "\n",
    "    while True: \n",
    "        conn, addr = s.accept()\n",
    "        with conn:\n",
    "            print(f\"Connected by {addr}\")\n",
    "            data = conn.recv(1024)\n",
    "            a = sum(data)\n",
    "            print(a)\n",
    "            conn.sendall(a.to_bytes(4,'big'))\n",
    "            \n"
   ]
  },
  {
   "cell_type": "code",
   "execution_count": null,
   "metadata": {},
   "outputs": [
    {
     "ename": "ConnectionResetError",
     "evalue": "[WinError 10054] An existing connection was forcibly closed by the remote host",
     "output_type": "error",
     "traceback": [
      "\u001b[1;31m---------------------------------------------------------------------------\u001b[0m",
      "\u001b[1;31mConnectionResetError\u001b[0m                      Traceback (most recent call last)",
      "\u001b[1;32mc:\\Users\\rishi krishna\\OneDrive\\Desktop\\summaer python\\CSCI-6651\\midterm.ipynb Cell 7\u001b[0m in \u001b[0;36m1\n\u001b[0;32m     <a href='vscode-notebook-cell:/c%3A/Users/rishi%20krishna/OneDrive/Desktop/summaer%20python/CSCI-6651/midterm.ipynb#X12sZmlsZQ%3D%3D?line=13'>14</a>\u001b[0m received_data \u001b[39m=\u001b[39m \u001b[39mb\u001b[39m\u001b[39m'\u001b[39m\u001b[39m'\u001b[39m\n\u001b[0;32m     <a href='vscode-notebook-cell:/c%3A/Users/rishi%20krishna/OneDrive/Desktop/summaer%20python/CSCI-6651/midterm.ipynb#X12sZmlsZQ%3D%3D?line=14'>15</a>\u001b[0m \u001b[39mwhile\u001b[39;00m \u001b[39mlen\u001b[39m(received_data) \u001b[39m<\u001b[39m \u001b[39m4\u001b[39m: \n\u001b[1;32m---> <a href='vscode-notebook-cell:/c%3A/Users/rishi%20krishna/OneDrive/Desktop/summaer%20python/CSCI-6651/midterm.ipynb#X12sZmlsZQ%3D%3D?line=15'>16</a>\u001b[0m     data \u001b[39m=\u001b[39m s\u001b[39m.\u001b[39;49mrecv(\u001b[39m4\u001b[39;49m)\n\u001b[0;32m     <a href='vscode-notebook-cell:/c%3A/Users/rishi%20krishna/OneDrive/Desktop/summaer%20python/CSCI-6651/midterm.ipynb#X12sZmlsZQ%3D%3D?line=16'>17</a>\u001b[0m     \u001b[39mif\u001b[39;00m \u001b[39mnot\u001b[39;00m data:\n\u001b[0;32m     <a href='vscode-notebook-cell:/c%3A/Users/rishi%20krishna/OneDrive/Desktop/summaer%20python/CSCI-6651/midterm.ipynb#X12sZmlsZQ%3D%3D?line=17'>18</a>\u001b[0m         \u001b[39mbreak\u001b[39;00m\n",
      "\u001b[1;31mConnectionResetError\u001b[0m: [WinError 10054] An existing connection was forcibly closed by the remote host"
     ]
    }
   ],
   "source": [
    "#client side code to send bytes and adding them\n",
    "# I saved this code in another file and \"run\" two files client and server which listens to ip and which sends 4 bytes \n",
    "\n",
    "\n",
    "import socket\n",
    "\n",
    "HOST = \"127.0.0.1\"  # Standard loopback interface address (localhost)\n",
    "PORT = 65432  # Port to listen on (non-privileged ports are > 1023)\n",
    "\n",
    "data_to_send = [10, 20, 30, 45]  # example array of bytes\n",
    "\n",
    "with socket.socket(socket.AF_INET, socket.SOCK_STREAM) as s:\n",
    "    s.connect((HOST, PORT))\n",
    "    s.sendall(bytes(data_to_send))  # send the array of bytes to the server\n",
    "    \n",
    "    received_data = b''\n",
    "    while len(received_data) < 4: \n",
    "        data = s.recv(4)\n",
    "        if not data:\n",
    "            break\n",
    "        received_data += data\n",
    "    \n",
    "    sum_bytes = int.from_bytes(received_data, 'big')  # Converting 4 bytes to an integer\n",
    "    print(sum_bytes)  # Print the sum as an integer\n"
   ]
  },
  {
   "attachments": {},
   "cell_type": "markdown",
   "metadata": {},
   "source": [
    "## Q4 \n",
    "\n",
    "Convert the IP address in the ip variable to binary and print output in columns to stdout:\n",
    "\n",
    "- the first line must be decimal values (aligned to the right)\n",
    "\n",
    "- the second line is binary values\n",
    "\n",
    "The output should be ordered in the same way as in the example output below:\n",
    "\n",
    "- in columns\n",
    "\n",
    "- column width 12 characters (in binary you need to add 4 spaces between columns to separate\n",
    "octets among themselves)\n",
    "\n",
    "- decimal values aligned to the right of the binary values\n",
    "\n",
    "\n"
   ]
  },
  {
   "cell_type": "code",
   "execution_count": 4,
   "metadata": {},
   "outputs": [
    {
     "name": "stdout",
     "output_type": "stream",
     "text": [
      "         192          168            3            1 \n",
      "    11000000     10101000     00000011     00000001 \n"
     ]
    }
   ],
   "source": [
    "#Example output for address 10.1.1.1:\n",
    "#      10           1           1           1\n",
    "#00001010    00000001    00000001    00000001\n",
    "\n",
    "ip = \"192.168.3.1\"\n",
    "\n",
    "# Spliting the IP address\n",
    "ip_split = ip.split(\".\")\n",
    "\n",
    "for split in ip_split:\n",
    "    decimal_value = int(split)\n",
    "    binary_value = bin(decimal_value)[2:].zfill(8)\n",
    "    print(f\"{decimal_value: >12}\", end=\" \")\n",
    "print()\n",
    "\n",
    "for split in ip_split:\n",
    "    decimal_value = int(split)\n",
    "    binary_value = bin(decimal_value)[2:].zfill(8)\n",
    "    print(f\"{binary_value: >12}\", end=\" \")\n",
    "print()"
   ]
  }
 ],
 "metadata": {
  "kernelspec": {
   "display_name": "myenv",
   "language": "python",
   "name": "python3"
  },
  "language_info": {
   "codemirror_mode": {
    "name": "ipython",
    "version": 3
   },
   "file_extension": ".py",
   "mimetype": "text/x-python",
   "name": "python",
   "nbconvert_exporter": "python",
   "pygments_lexer": "ipython3",
   "version": "3.10.7"
  },
  "orig_nbformat": 4
 },
 "nbformat": 4,
 "nbformat_minor": 2
}
