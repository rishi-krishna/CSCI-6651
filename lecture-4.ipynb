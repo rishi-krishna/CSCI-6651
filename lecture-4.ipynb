{
 "cells": [
  {
   "cell_type": "code",
   "execution_count": 6,
   "metadata": {},
   "outputs": [
    {
     "name": "stdout",
     "output_type": "stream",
     "text": [
      "{'location': '21 New Globe Walk', 'vendor': 'Cisco', 'model': '3850', 'ios': '3.6.XE', 'ip': '10.255.0.101', 'vlans': '10,20,30', 'routing': True}\n"
     ]
    }
   ],
   "source": [
    "# task 5.1\n",
    "london_co = {\n",
    "    \"r1\": {\n",
    "        \"location\": \"21 New Globe Walk\",\n",
    "        \"vendor\": \"Cisco\",\n",
    "        \"model\": \"4451\",\n",
    "        \"ios\": \"15.4\",\n",
    "        \"ip\": \"10.255.0.1\"\n",
    "    },\n",
    "    \"r2\": {\n",
    "        \"location\": \"21 New Globe Walk\",\n",
    "        \"vendor\": \"Cisco\",\n",
    "        \"model\": \"4451\",\n",
    "        \"ios\": \"15.4\",\n",
    "        \"ip\": \"10.255.0.2\"\n",
    "    },\n",
    "    \"sw1\": {\n",
    "        \"location\": \"21 New Globe Walk\",\n",
    "        \"vendor\": \"Cisco\",\n",
    "        \"model\": \"3850\",\n",
    "        \"ios\": \"3.6.XE\",\n",
    "        \"ip\": \"10.255.0.101\",\n",
    "        \"vlans\": \"10,20,30\",\n",
    "        \"routing\": True\n",
    "    }\n",
    "}\n",
    "\n",
    "device_name = input(\"Enter name of device: \")\n",
    "device_info = london_co.get(device_name, \"Device not found\")\n",
    "print(device_info)"
   ]
  },
  {
   "cell_type": "code",
   "execution_count": 7,
   "metadata": {},
   "outputs": [
    {
     "name": "stdout",
     "output_type": "stream",
     "text": [
      "15.4\n"
     ]
    }
   ],
   "source": [
    "# task 5.1 a\n",
    "london_co = {\n",
    "    \"r1\": {\n",
    "        \"location\": \"21 New Globe Walk\",\n",
    "        \"vendor\": \"Cisco\",\n",
    "        \"model\": \"4451\",\n",
    "        \"ios\": \"15.4\",\n",
    "        \"ip\": \"10.255.0.1\"\n",
    "    },\n",
    "    \"r2\": {\n",
    "        \"location\": \"21 New Globe Walk\",\n",
    "        \"vendor\": \"Cisco\",\n",
    "        \"model\": \"4451\",\n",
    "        \"ios\": \"15.4\",\n",
    "        \"ip\": \"10.255.0.2\"\n",
    "    },\n",
    "    \"sw1\": {\n",
    "        \"location\": \"21 New Globe Walk\",\n",
    "        \"vendor\": \"Cisco\",\n",
    "        \"model\": \"3850\",\n",
    "        \"ios\": \"3.6.XE\",\n",
    "        \"ip\": \"10.255.0.101\",\n",
    "        \"vlans\": \"10,20,30\",\n",
    "        \"routing\": True\n",
    "    }\n",
    "}\n",
    "\n",
    "device_name = input(\"Enter device name: \")\n",
    "parameter_name = input(\"Enter parameter name: \")\n",
    "\n",
    "device_info = london_co.get(device_name, \"Device not found\")\n",
    "parameter_value = device_info.get(parameter_name, \"Parameter not found\")\n",
    "\n",
    "print(parameter_value)\n"
   ]
  }
 ],
 "metadata": {
  "kernelspec": {
   "display_name": "Python 3",
   "language": "python",
   "name": "python3"
  },
  "language_info": {
   "codemirror_mode": {
    "name": "ipython",
    "version": 3
   },
   "file_extension": ".py",
   "mimetype": "text/x-python",
   "name": "python",
   "nbconvert_exporter": "python",
   "pygments_lexer": "ipython3",
   "version": "3.10.7"
  },
  "orig_nbformat": 4
 },
 "nbformat": 4,
 "nbformat_minor": 2
}
