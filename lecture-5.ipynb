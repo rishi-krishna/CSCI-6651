{
 "cells": [
  {
   "cell_type": "code",
   "execution_count": 5,
   "metadata": {},
   "outputs": [
    {
     "name": "stdout",
     "output_type": "stream",
     "text": [
      "['aabb.cc80.7000', 'aabb.dd80.7340', 'aabb.ee80.7000', 'aabb.ff80.7000']\n"
     ]
    }
   ],
   "source": [
    "mac = [\"aabb:cc80:7000\", \"aabb:dd80:7340\", \"aabb:ee80:7000\", \"aabb:ff80:7000\"]\n",
    "result = []\n",
    "\n",
    "for address in mac:\n",
    "    cisco_address = address.replace(\":\", \".\")\n",
    "    result.append(cisco_address)\n",
    "\n",
    "print(result)"
   ]
  },
  {
   "cell_type": "code",
   "execution_count": 4,
   "metadata": {},
   "outputs": [
    {
     "name": "stdout",
     "output_type": "stream",
     "text": [
      "interface FastEthernet 0/1\n",
      " switchport trunk encapsulation dot1q\n",
      " switchport mode trunk\n",
      " switchport trunk allowed vlan add 10,20\n",
      "\n",
      "interface FastEthernet 0/2\n",
      " switchport trunk encapsulation dot1q\n",
      " switchport mode trunk\n",
      " switchport trunk allowed vlan 11,30\n",
      "\n",
      "interface FastEthernet 0/4\n",
      " switchport trunk encapsulation dot1q\n",
      " switchport mode trunk\n",
      " switchport trunk allowed vlan remove 17\n",
      "\n"
     ]
    }
   ],
   "source": [
    "trunk_template = [\n",
    "    \"switchport trunk encapsulation dot1q\",\n",
    "    \"switchport mode trunk\",\n",
    "    \"switchport trunk allowed vlan\",\n",
    "]\n",
    "\n",
    "trunk = {\"0/1\": [\"add\", \"10\", \"20\"], \"0/2\": [\"only\", \"11\", \"30\"], \"0/4\": [\"del\", \"17\"]}\n",
    "\n",
    "#for loop for trunk\n",
    "for intf, vlan_list in trunk.items():\n",
    "    print(\"interface FastEthernet \" + intf)\n",
    "    #for loop for trunt template\n",
    "    for command in trunk_template:\n",
    "        if command.endswith(\"trunk allowed vlan\"):\n",
    "            action = vlan_list[0]\n",
    "            vlans = \",\".join(vlan_list[1:])\n",
    "            if action == \"add\":\n",
    "                print(f\" {command} add {vlans}\")\n",
    "            elif action == \"del\":\n",
    "                print(f\" {command} remove {vlans}\")\n",
    "            elif action == \"only\":\n",
    "                print(f\" {command} {vlans}\")\n",
    "        else:\n",
    "            print(f\" {command}\")\n",
    "    print()"
   ]
  }
 ],
 "metadata": {
  "kernelspec": {
   "display_name": "Python 3",
   "language": "python",
   "name": "python3"
  },
  "language_info": {
   "codemirror_mode": {
    "name": "ipython",
    "version": 3
   },
   "file_extension": ".py",
   "mimetype": "text/x-python",
   "name": "python",
   "nbconvert_exporter": "python",
   "pygments_lexer": "ipython3",
   "version": "3.10.7"
  },
  "orig_nbformat": 4
 },
 "nbformat": 4,
 "nbformat_minor": 2
}
