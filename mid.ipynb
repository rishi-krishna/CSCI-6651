{
 "cells": [
  {
   "cell_type": "code",
   "execution_count": 41,
   "metadata": {},
   "outputs": [
    {
     "name": "stdout",
     "output_type": "stream",
     "text": [
      "Encoded URL: http://tinyurl.com/L0BQV5\n",
      "Decoded URL: https://universityofnewhaven/design-tinyurl\n",
      "Encoded URL: http://tinyurl.com/hhcTPp\n",
      "Decoded URL: https://universityofnewhaven/asdsd\n"
     ]
    }
   ],
   "source": [
    "import random\n",
    "import string\n",
    "\n",
    "# Dictionary to store the URL's\n",
    "url_map = {}\n",
    "\n",
    " # method to Generate a random string of characters to add to short url\n",
    "def generate_short_url():\n",
    "   \n",
    "    characters = string.ascii_letters + string.digits\n",
    "    short_url = ''.join(random.choice(characters) for _ in range(6))  \n",
    "    return short_url\n",
    "\n",
    "def encode(longUrl):\n",
    "    global url_map\n",
    "\n",
    "    if longUrl in url_map:\n",
    "        return url_map[longUrl]\n",
    "\n",
    "    # using generate_dhort_url method to get random value and adding to url\n",
    "    shortUrl = \"http://tinyurl.com/\" + generate_short_url()\n",
    "\n",
    "    # store to dictionary\n",
    "    url_map[longUrl] = shortUrl\n",
    "\n",
    "    return shortUrl\n",
    "\n",
    "def decode(shortUrl):\n",
    "    global url_map\n",
    "\n",
    "    shortUrl = shortUrl.split(\"/\")[-1]\n",
    "\n",
    "    # for loop to fetch url from dictionary\n",
    "    for longUrl, encoded in url_map.items():\n",
    "        if encoded.split(\"/\")[-1] == shortUrl:\n",
    "            return longUrl\n",
    "\n",
    "    #return none if not found\n",
    "    return None\n",
    "\n",
    "\n",
    "#Example 1\n",
    "long_url = \"https://universityofnewhaven/design-tinyurl\"\n",
    "encoded_url = encode(long_url)\n",
    "print(\"Encoded URL:\", encoded_url)\n",
    "\n",
    "decoded_url = decode(encoded_url)\n",
    "print(\"Decoded URL:\", decoded_url)\n",
    "\n",
    "#Example 2\n",
    "long_url = \"https://universityofnewhaven/asdsd\"\n",
    "encoded_url = encode(long_url)\n",
    "print(\"Encoded URL:\", encoded_url)\n",
    "\n",
    "decoded_url = decode(encoded_url)\n",
    "print(\"Decoded URL:\", decoded_url)"
   ]
  },
  {
   "cell_type": "code",
   "execution_count": 43,
   "metadata": {},
   "outputs": [
    {
     "name": "stdout",
     "output_type": "stream",
     "text": [
      "['0x66', '0x3c', '0x77', '0xf', '0x72', '0x30', '0x3a', '0x59', '0x7a', '0x36', '0x77', '0xb', '0x7a', '0x36', '0x3f', '0x10', '0x33', '0x2e', '0x25', '0x10', '0x60', '0x2d', '0x21', '0x18']\n",
      "my name is rishi krishna\n"
     ]
    }
   ],
   "source": [
    "def encrypt(textIn, key): \n",
    "    textOut = list ( textIn ) \n",
    "    for i in range(len(textIn)):\n",
    "        textOut [i] = chr ( -~ ord( textIn [i] ) ) \n",
    "        textOut [i] = chr (ord (textOut[i]) + 3 ) \n",
    "        textOut [i] = chr ( 5 ^ key [i%4]  ^ ord ( textOut [i] ) )\n",
    "    return \"\".join(textOut)\n",
    "\n",
    "textOut = encrypt(\"my name is rishi krishna\", [0x12, 0x44, 0x56, 0x78])\n",
    "print ([hex(ord(x)) for x in textOut]) \n",
    "\n",
    " \n",
    "\n",
    "def decrypt(textOut, key):\n",
    "    textIn = list(textOut)\n",
    "    for i in range(len(textOut)):\n",
    "        textIn[i] = chr(ord(textOut[i]) ^ 5 ^ key[i % 4])\n",
    "        textIn[i] = chr(ord(textIn[i]) - 3)\n",
    "        textIn[i] = chr(ord(textIn[i]) - 1)\n",
    "    return \"\".join(textIn)\n",
    "\n",
    "\n",
    "decryptedTextOut = decrypt(textOut, [0x12, 0x44, 0x56, 0x78])\n",
    "#this should print the original text: Good Luck for your exam at the University of New Haven!\n",
    "print (decryptedTextOut)\n",
    "\n",
    "\n",
    "\n",
    "  \n"
   ]
  },
  {
   "cell_type": "code",
   "execution_count": 46,
   "metadata": {},
   "outputs": [
    {
     "name": "stdout",
     "output_type": "stream",
     "text": [
      "         192          168            3            1 \n",
      "    11000000     10101000     00000011     00000001 \n"
     ]
    }
   ],
   "source": [
    "ip = \"192.168.3.1\"\n",
    "\n",
    "# Split the IP address into octets\n",
    "octets = ip.split(\".\")\n",
    "\n",
    "# Convert each octet to binary and print the output\n",
    "for octet in octets:\n",
    "    decimal_value = int(octet)\n",
    "    binary_value = bin(decimal_value)[2:].zfill(8)\n",
    "    print(f\"{decimal_value: >12}\", end=\" \")\n",
    "print()\n",
    "\n",
    "for octet in octets:\n",
    "    decimal_value = int(octet)\n",
    "    binary_value = bin(decimal_value)[2:].zfill(8)\n",
    "    print(f\"{binary_value: >12}\", end=\" \")\n",
    "print()"
   ]
  },
  {
   "cell_type": "code",
   "execution_count": 55,
   "metadata": {},
   "outputs": [
    {
     "name": "stdout",
     "output_type": "stream",
     "text": [
      "105\n"
     ]
    }
   ],
   "source": [
    "import socket\n",
    "\n",
    "HOST = \"127.0.0.1\"  # Server IP address\n",
    "PORT = 65432  # Server port\n",
    "data_to_send = [10, 20, 30, 45]  # Example array of bytes\n",
    "\n",
    "with socket.socket(socket.AF_INET, socket.SOCK_STREAM) as s:\n",
    "    s.connect((HOST, PORT))\n",
    "    s.sendall(bytes(data_to_send))  # Send the array of bytes to the server\n",
    "    \n",
    "    received_data = b''\n",
    "    while len(received_data) < 4:  # Receive until 4 bytes are received\n",
    "        data = s.recv(4)\n",
    "        if not data:\n",
    "            break\n",
    "        received_data += data\n",
    "    \n",
    "    sum_bytes = int.from_bytes(received_data, 'big')  # Convert the bytes to an integer\n",
    "    print(sum_bytes)  # Print the sum as an integer\n"
   ]
  }
 ],
 "metadata": {
  "kernelspec": {
   "display_name": "Python 3",
   "language": "python",
   "name": "python3"
  },
  "language_info": {
   "codemirror_mode": {
    "name": "ipython",
    "version": 3
   },
   "file_extension": ".py",
   "mimetype": "text/x-python",
   "name": "python",
   "nbconvert_exporter": "python",
   "pygments_lexer": "ipython3",
   "version": "3.10.7"
  },
  "orig_nbformat": 4
 },
 "nbformat": 4,
 "nbformat_minor": 2
}
