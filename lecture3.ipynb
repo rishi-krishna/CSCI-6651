{
 "cells": [
  {
   "cell_type": "code",
   "execution_count": 1,
   "metadata": {},
   "outputs": [
    {
     "name": "stdout",
     "output_type": "stream",
     "text": [
      "ip nat inside source list ACL interface GigabitEthernet0/1 overload\n"
     ]
    }
   ],
   "source": [
    "nat = \"ip nat inside source list ACL interface FastEthernet0/1 overload\"\n",
    "new_nat = nat.replace(\"FastEthernet\", \"GigabitEthernet\")\n",
    "print(new_nat)"
   ]
  },
  {
   "cell_type": "code",
   "execution_count": 2,
   "metadata": {},
   "outputs": [
    {
     "name": "stdout",
     "output_type": "stream",
     "text": [
      "AAAA.BBBB.CCCC\n"
     ]
    }
   ],
   "source": [
    "mac = \"AAAA:BBBB:CCCC\"\n",
    "new_mac = mac.replace(\":\", \".\")\n",
    "print(new_mac)"
   ]
  },
  {
   "cell_type": "code",
   "execution_count": 5,
   "metadata": {},
   "outputs": [
    {
     "name": "stdout",
     "output_type": "stream",
     "text": [
      "['1', '3', '10', '20', '30', '100']\n"
     ]
    }
   ],
   "source": [
    "config = \"switchport trunk allowed vlan 1,3,10,20,30,100\"\n",
    "vlan_string = config.split(\"vlan \")[1]\n",
    "result = vlan_string.split(\",\")\n",
    "print(result)"
   ]
  }
 ],
 "metadata": {
  "kernelspec": {
   "display_name": "Python 3",
   "language": "python",
   "name": "python3"
  },
  "language_info": {
   "codemirror_mode": {
    "name": "ipython",
    "version": 3
   },
   "file_extension": ".py",
   "mimetype": "text/x-python",
   "name": "python",
   "nbconvert_exporter": "python",
   "pygments_lexer": "ipython3",
   "version": "3.10.7"
  },
  "orig_nbformat": 4
 },
 "nbformat": 4,
 "nbformat_minor": 2
}
