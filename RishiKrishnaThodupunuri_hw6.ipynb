{
 "cells": [
  {
   "cell_type": "code",
   "execution_count": 1,
   "metadata": {},
   "outputs": [
    {
     "name": "stdout",
     "output_type": "stream",
     "text": [
      "[('10.1.1.1', '255.255.255.255'), ('10.0.13.1', '255.255.255.0'), ('10.0.19.1', '255.255.255.0')]\n"
     ]
    }
   ],
   "source": [
    "import re\n",
    "\n",
    "#get_ip_from_cfg function that expects the name of the file \n",
    "def get_ip_from_cfg(filename):\n",
    "    ip_addresses = []\n",
    "    with open(filename, 'r') as f:\n",
    "        config = f.read()\n",
    "\n",
    "        #regular expression to find ip address\n",
    "        ip_pattern = r'ip address (\\d+\\.\\d+\\.\\d+\\.\\d+) (\\d+\\.\\d+\\.\\d+\\.\\d+)'\n",
    "        matches = re.findall(ip_pattern, config)\n",
    "        for match in matches:\n",
    "            ip_addresses.append(match)\n",
    "    return ip_addresses\n",
    "\n",
    "# calling method with txt file\n",
    "result = get_ip_from_cfg('config_r1.txt')\n",
    "print(result)\n"
   ]
  },
  {
   "cell_type": "code",
   "execution_count": 2,
   "metadata": {},
   "outputs": [
    {
     "name": "stdout",
     "output_type": "stream",
     "text": [
      "{'Loopback0': ('10.1.1.1', '255.255.255.255'), 'Ethernet0/0': ('10.0.13.1', '255.255.255.0'), 'Ethernet0/2': ('10.0.19.1', '255.255.255.0')}\n"
     ]
    }
   ],
   "source": [
    "import re\n",
    "\n",
    "#get_ip_from_cfg function that expects the name of the file \n",
    "def get_ip_from_cfg(filename):\n",
    "    ip_dict = {}\n",
    "    with open(filename, 'r') as f:\n",
    "        config = f.read()\n",
    "\n",
    "        #regular expression to find interface\n",
    "        interface_pattern = r'interface (\\S+)'\n",
    "\n",
    "        #regular expression to find ip address\n",
    "        ip_pattern = r'ip address (\\d+\\.\\d+\\.\\d+\\.\\d+) (\\d+\\.\\d+\\.\\d+\\.\\d+)'\n",
    "        interfaces = re.findall(interface_pattern, config)\n",
    "        for interface in interfaces:\n",
    "            regex = r'interface {}\\n([\\s\\S]+?)!'.format(interface)\n",
    "            interface_config = re.search(regex, config, re.MULTILINE)\n",
    "            if interface_config:\n",
    "                matches = re.findall(ip_pattern, interface_config.group(1))\n",
    "                if matches:\n",
    "                    ip_dict[interface] = matches[0]\n",
    "    return ip_dict\n",
    "\n",
    "# calling method with txt file\n",
    "result = get_ip_from_cfg('config_r1.txt')\n",
    "print(result)\n"
   ]
  },
  {
   "cell_type": "code",
   "execution_count": 3,
   "metadata": {},
   "outputs": [
    {
     "name": "stdout",
     "output_type": "stream",
     "text": [
      "{'Loopback0': [('10.2.2.2', '255.255.255.255')], 'Ethernet0/0': [('10.0.23.2', '255.255.255.0')], 'Ethernet0/1': [('10.255.2.2', '255.255.255.0'), ('10.254.2.2', '255.255.255.0')], 'Ethernet0/2': [('10.0.29.2', '255.255.255.0')]}\n"
     ]
    }
   ],
   "source": [
    "import re\n",
    "\n",
    "def get_ip_from_cfg(filename):\n",
    "    ip_dict = {}\n",
    "    with open(filename, 'r') as f:\n",
    "        config = f.read()\n",
    "        #regular expression to find interface\n",
    "        interface_pattern = r'interface (\\S+)'\n",
    "        #regular expression to find ip address\n",
    "        ip_pattern = r'ip address (\\d+\\.\\d+\\.\\d+\\.\\d+) (\\d+\\.\\d+\\.\\d+\\.\\d+)'\n",
    "        interfaces = re.findall(interface_pattern, config)\n",
    "        for interface in interfaces:\n",
    "            regex = r'interface {}\\n([\\s\\S]+?)!'.format(interface)\n",
    "            interface_config = re.search(regex, config, re.MULTILINE)\n",
    "            if interface_config:\n",
    "                matches = re.findall(ip_pattern, interface_config.group(1))\n",
    "                if matches:\n",
    "                    ip_dict[interface] = matches\n",
    "    return ip_dict\n",
    "\n",
    "# calling method with txt file\n",
    "result = get_ip_from_cfg('config_r2.txt')\n",
    "print(result)\n"
   ]
  }
 ],
 "metadata": {
  "kernelspec": {
   "display_name": "Python 3",
   "language": "python",
   "name": "python3"
  },
  "language_info": {
   "codemirror_mode": {
    "name": "ipython",
    "version": 3
   },
   "file_extension": ".py",
   "mimetype": "text/x-python",
   "name": "python",
   "nbconvert_exporter": "python",
   "pygments_lexer": "ipython3",
   "version": "3.10.7"
  },
  "orig_nbformat": 4
 },
 "nbformat": 4,
 "nbformat_minor": 2
}
