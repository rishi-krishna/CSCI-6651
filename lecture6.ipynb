{
 "cells": [
  {
   "cell_type": "code",
   "execution_count": 13,
   "metadata": {},
   "outputs": [
    {
     "name": "stdout",
     "output_type": "stream",
     "text": [
      "Prefix\t\t 10.0.24.0/24\n",
      "AD/Metric\t 110/41\n",
      "Next-Hop\t 10.0.13.3\n",
      "Last update\t 3d18h\n",
      "Outbound Interface\t FastEthernet0/0\n",
      "\n",
      "Prefix\t\t 10.0.28.0/24\n",
      "AD/Metric\t 110/31\n",
      "Next-Hop\t 10.0.13.3\n",
      "Last update\t 3d20h\n",
      "Outbound Interface\t FastEthernet0/0\n",
      "\n",
      "Prefix\t\t 10.0.37.0/24\n",
      "AD/Metric\t 110/11\n",
      "Next-Hop\t 10.0.13.3\n",
      "Last update\t 3d20h\n",
      "Outbound Interface\t FastEthernet0/0\n",
      "\n",
      "Prefix\t\t 10.0.41.0/24\n",
      "AD/Metric\t 110/51\n",
      "Next-Hop\t 10.0.13.3\n",
      "Last update\t 3d20h\n",
      "Outbound Interface\t FastEthernet0/0\n",
      "\n",
      "Prefix\t\t 10.0.78.0/24\n",
      "AD/Metric\t 110/21\n",
      "Next-Hop\t 10.0.13.3\n",
      "Last update\t 3d20h\n",
      "Outbound Interface\t FastEthernet0/0\n",
      "\n",
      "Prefix\t\t 10.0.79.0/24\n",
      "AD/Metric\t 110/20\n",
      "Next-Hop\t 10.0.19.9\n",
      "Last update\t 4d02h\n",
      "Outbound Interface\t FastEthernet0/2\n",
      "\n"
     ]
    }
   ],
   "source": [
    "#task 7.1\n",
    "with open('ospf.txt', 'r') as file:\n",
    "    for line in file:\n",
    "        # Split the line into components\n",
    "        parts = line.split()\n",
    "\n",
    "        # Extract the required information\n",
    "        prefix = parts[1]\n",
    "        ad_metric = parts[2][1:-1]\n",
    "        next_hop = parts[4][:-1]\n",
    "        last_update = parts[5][:-1]\n",
    "        outbound_interface = parts[6]\n",
    "\n",
    "        # Print the information in the required format\n",
    "        print(\"Prefix\\t\\t\", prefix)\n",
    "        print(\"AD/Metric\\t\", ad_metric)\n",
    "        print(\"Next-Hop\\t\", next_hop)\n",
    "        print(\"Last update\\t\", last_update)\n",
    "        print(\"Outbound Interface\\t\", outbound_interface)\n",
    "        print()\n",
    "\n",
    "       "
   ]
  },
  {
   "cell_type": "code",
   "execution_count": 16,
   "metadata": {},
   "outputs": [
    {
     "name": "stdout",
     "output_type": "stream",
     "text": [
      "10       01ab.c5d0.70d0      Gi0/8\n",
      "10       0a1b.1c80.7000      Gi0/4\n",
      "100      01bb.c580.7000      Gi0/1\n",
      "200      0a4b.c380.7c00      Gi0/2\n",
      "200      1a4b.c580.7000      Gi0/6\n",
      "300      0a1b.5c80.70f0      Gi0/7\n",
      "300      a2ab.c5a0.700e      Gi0/3\n",
      "500      02b1.3c80.7b00      Gi0/5\n",
      "1000     0a4b.c380.7d00      Gi0/9\n"
     ]
    }
   ],
   "source": [
    "#task 7.3a\n",
    "mac_table = []  \n",
    "with open(\"CAM_table.txt\", \"r\") as conf:  \n",
    "    for line in conf:  \n",
    "        words = line.split()  \n",
    "        if words and words[0].isdigit():  \n",
    "            vlan, mac, _, intf = words  \n",
    "            mac_table.append([int(vlan), mac, intf]) \n",
    "\n",
    "for vlan, mac, intf in sorted(mac_table): \n",
    "    print(f\"{vlan:<9}{mac:20}{intf}\")  "
   ]
  },
  {
   "cell_type": "code",
   "execution_count": null,
   "metadata": {},
   "outputs": [],
   "source": []
  },
  {
   "cell_type": "code",
   "execution_count": null,
   "metadata": {},
   "outputs": [],
   "source": []
  }
 ],
 "metadata": {
  "kernelspec": {
   "display_name": "Python 3",
   "language": "python",
   "name": "python3"
  },
  "language_info": {
   "codemirror_mode": {
    "name": "ipython",
    "version": 3
   },
   "file_extension": ".py",
   "mimetype": "text/x-python",
   "name": "python",
   "nbconvert_exporter": "python",
   "pygments_lexer": "ipython3",
   "version": "3.10.7"
  },
  "orig_nbformat": 4
 },
 "nbformat": 4,
 "nbformat_minor": 2
}
